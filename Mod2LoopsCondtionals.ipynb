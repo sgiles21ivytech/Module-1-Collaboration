{
 "cells": [
  {
   "cell_type": "markdown",
   "id": "ac42b842-147e-4b3b-bc90-2d43ff3233b6",
   "metadata": {},
   "source": [
    "# 4.1\n",
    "> Choose a number between 1 and 10, assign that number to variable secret.\n",
    "> Next choose another number between 1 and 10, assign that number to variable guess.\n",
    "> Write the conditional statements: if guess less than secret, print \"too low\", if greater than secret, \"too high\", and if equal to secret \"just right\""
   ]
  },
  {
   "cell_type": "code",
   "execution_count": 1,
   "id": "3ce1ce70-dd4c-44ed-8ae3-50ae25d7d80d",
   "metadata": {},
   "outputs": [
    {
     "name": "stdout",
     "output_type": "stream",
     "text": [
      "too low\n"
     ]
    }
   ],
   "source": [
    "secret = 5\n",
    "guess = 3\n",
    "\n",
    "if guess < secret:\n",
    "    print(\"too low\")\n",
    "elif guess > secret:\n",
    "    print(\"too high\")\n",
    "elif guess == secret:\n",
    "    print(\"just right\")\n",
    "else:\n",
    "    (\"Error! Choose a Number between\")"
   ]
  },
  {
   "cell_type": "markdown",
   "id": "52c3f399-37ec-40ac-a65b-fa8b0e3f6735",
   "metadata": {},
   "source": [
    "# 4.2 If Statements\n",
    "> Assign True of False to the variables small and green.\n",
    "> Write if/else statements to print which of these matches: cherry, pea, watermelon, or pumpkin."
   ]
  },
  {
   "cell_type": "code",
   "execution_count": 2,
   "id": "06d34e59-e9e1-4171-98aa-48f5f2d1b0b0",
   "metadata": {},
   "outputs": [
    {
     "name": "stdout",
     "output_type": "stream",
     "text": [
      "It's a pea\n"
     ]
    }
   ],
   "source": [
    "small = True\n",
    "green = True\n",
    "\n",
    "if small:\n",
    "    if green:\n",
    "        print(\"It's a pea\")\n",
    "\n",
    "elif green:\n",
    "    print(\"It's a Watermelon\")\n",
    "\n",
    "elif small:\n",
    "    print(\"It's Cherry\")\n",
    "\n",
    "else:\n",
    "    if not green or not small:\n",
    "        print(\"It's a pumpkin\")\n"
   ]
  },
  {
   "cell_type": "markdown",
   "id": "234df81d-3e6a-48e6-a940-2321bf46e4d8",
   "metadata": {},
   "source": [
    "# 6.1 Basic For loop\n",
    "> Use a for loop to print the values [3,2,1,0]\n"
   ]
  },
  {
   "cell_type": "code",
   "execution_count": 4,
   "id": "bddaba40-72c7-4942-899e-c4f0b87cfd12",
   "metadata": {},
   "outputs": [
    {
     "name": "stdout",
     "output_type": "stream",
     "text": [
      "3\n",
      "2\n",
      "1\n",
      "0\n"
     ]
    }
   ],
   "source": [
    "basic_list = [3,2,1,0]\n",
    "\n",
    "for numbers in basic_list:\n",
    "    print(numbers)"
   ]
  },
  {
   "cell_type": "markdown",
   "id": "1b0ee9f3-7eb8-423c-abb7-bf8a4704614b",
   "metadata": {},
   "source": [
    "# 6.2 A While Loop\n",
    "> Assign 7 to the variable guess_me and assign 1 to the variable number.\n",
    "> Write a while loop that compares number with guess_me.\n",
    "> Print too low if number less than guess_me. Print found it if number equals guess_me. If number greater than guess_me, print oops, and exit program.\n",
    "> Increment number at the end of the loop"
   ]
  },
  {
   "cell_type": "code",
   "execution_count": 2,
   "id": "cb5c275d-2491-49ad-ab48-8e69d94d12e9",
   "metadata": {},
   "outputs": [
    {
     "name": "stdout",
     "output_type": "stream",
     "text": [
      "too low\n",
      "too low\n",
      "too low\n",
      "too low\n",
      "too low\n",
      "too low\n",
      "found it!\n"
     ]
    }
   ],
   "source": [
    "guess_me = 7\n",
    "number = 1\n",
    "\n",
    "\n",
    "while True:\n",
    "    if number < guess_me:\n",
    "        print(\"too low\")\n",
    "    elif number == guess_me:\n",
    "        print(\"found it!\")\n",
    "        break\n",
    "    else:\n",
    "        print(\"oops\")\n",
    "        break\n",
    "    \n",
    "    number += 1"
   ]
  },
  {
   "cell_type": "markdown",
   "id": "5ca276e2-aa0e-47aa-9795-b7d226e90b04",
   "metadata": {},
   "source": [
    "# 6.3 For Loop\n",
    "> Assign 5 to variable guess_me. Use a for loop to iterate a variable called number to a range of 10.\n",
    "> If number less than guess_me, print too low. If number equals guess_me, print found it and break the loop. If greater than guess_me, print oops and break the loop."
   ]
  },
  {
   "cell_type": "code",
   "execution_count": 3,
   "id": "dbc28194-f857-402b-ad7f-739d7d961c8a",
   "metadata": {},
   "outputs": [
    {
     "name": "stdout",
     "output_type": "stream",
     "text": [
      "too low\n",
      "too low\n",
      "too low\n",
      "too low\n",
      "too low\n",
      "found it!\n"
     ]
    }
   ],
   "source": [
    "guess_me = 5\n",
    "\n",
    "\n",
    "for number in range(10):\n",
    "    if number < guess_me:\n",
    "        print(\"too low\")\n",
    "    elif number == guess_me:\n",
    "        print(\"found it!\")\n",
    "        break\n",
    "    else:\n",
    "        print(\"opps\")\n",
    "        break"
   ]
  },
  {
   "cell_type": "code",
   "execution_count": null,
   "id": "dbbbe7dc-d50b-4734-8031-f009f52f2e07",
   "metadata": {},
   "outputs": [],
   "source": []
  }
 ],
 "metadata": {
  "kernelspec": {
   "display_name": "Python 3 (ipykernel)",
   "language": "python",
   "name": "python3"
  },
  "language_info": {
   "codemirror_mode": {
    "name": "ipython",
    "version": 3
   },
   "file_extension": ".py",
   "mimetype": "text/x-python",
   "name": "python",
   "nbconvert_exporter": "python",
   "pygments_lexer": "ipython3",
   "version": "3.12.4"
  }
 },
 "nbformat": 4,
 "nbformat_minor": 5
}
