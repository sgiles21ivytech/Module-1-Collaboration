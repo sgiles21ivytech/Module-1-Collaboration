{
 "cells": [
  {
   "cell_type": "markdown",
   "id": "6d3279f6-b3f6-4130-b204-d1a209f10e77",
   "metadata": {},
   "source": [
    "# 3.1 How many seconds are in an hour?\n",
    "\n",
    "> multiply the number of seconds in a minute (60) by the number of minutes in an hour (also 60)\n",
    "\n",
    "\n",
    "\n"
   ]
  },
  {
   "cell_type": "code",
   "execution_count": 9,
   "id": "3f4ab9c7-302b-40d1-91ec-1eba01e830f9",
   "metadata": {},
   "outputs": [
    {
     "name": "stdout",
     "output_type": "stream",
     "text": [
      "There are 3600 seconds per hour.\n"
     ]
    }
   ],
   "source": [
    "seconds_per_minutes = 60\n",
    "minutes_per_hour = 60\n",
    "\n",
    "seconds_per_hour = seconds_per_minutes * minutes_per_hour\n",
    "print(\"There are\", seconds_per_hour , \"seconds per hour.\")\n"
   ]
  },
  {
   "cell_type": "markdown",
   "id": "d76aefcd-29fd-4458-806f-f9d677f176d2",
   "metadata": {},
   "source": [
    "# 3.2 \n",
    "> Assign the result from the previous task to a variable called seconds_per_hour"
   ]
  },
  {
   "cell_type": "code",
   "execution_count": 3,
   "id": "8cc65c57-a9a2-4ec1-b242-6b4ba56e25fc",
   "metadata": {},
   "outputs": [],
   "source": [
    "seconds_per_hour = seconds_per_minutes * minutes_per_hour"
   ]
  },
  {
   "cell_type": "markdown",
   "id": "33aba0f5-0479-4edb-b381-2b0e707b5943",
   "metadata": {},
   "source": [
    "# 3.3 How many seconds are in a day?\n",
    "> Use seconds_per_hour variable"
   ]
  },
  {
   "cell_type": "code",
   "execution_count": 8,
   "id": "bd450cfe-30d2-429e-a586-82f7e128ce31",
   "metadata": {},
   "outputs": [
    {
     "name": "stdout",
     "output_type": "stream",
     "text": [
      "86400\n"
     ]
    }
   ],
   "source": [
    "print(seconds_per_hour * 24)"
   ]
  },
  {
   "cell_type": "markdown",
   "id": "3746fa2f-561e-4597-b9ba-6f2178115721",
   "metadata": {},
   "source": [
    "# 3.4 Calculate seconds per day\n",
    "> Save as variable seconds_per_day"
   ]
  },
  {
   "cell_type": "code",
   "execution_count": 12,
   "id": "c760d02a-7781-466f-bb08-a35d17cd099f",
   "metadata": {},
   "outputs": [
    {
     "name": "stdout",
     "output_type": "stream",
     "text": [
      "There are 86400 seconds per day\n"
     ]
    }
   ],
   "source": [
    "hours_per_day = 24\n",
    "\n",
    "seconds_per_day = seconds_per_hour * hours_per_day\n",
    "print(\"There are\", seconds_per_day, \"seconds per day\")"
   ]
  },
  {
   "cell_type": "markdown",
   "id": "27ac0090-7604-48be-9a7d-173664130cd4",
   "metadata": {},
   "source": [
    "# 3.5 Divide seconds_per_day by seconds_per_hour\n",
    "\n",
    "> Use floating point / division"
   ]
  },
  {
   "cell_type": "code",
   "execution_count": 14,
   "id": "7e34600e-ac30-40b2-8aa8-213a8638c852",
   "metadata": {},
   "outputs": [
    {
     "name": "stdout",
     "output_type": "stream",
     "text": [
      "The answer is 24.0\n"
     ]
    }
   ],
   "source": [
    "print(\"The answer is\", seconds_per_day / seconds_per_hour)"
   ]
  },
  {
   "cell_type": "markdown",
   "id": "2a6eb8fe-30c7-4d13-b420-8366e2f1055c",
   "metadata": {},
   "source": [
    "# 3.6 Divide seconds_per_day by seconds_per_hour\n",
    "> Use integer // division. Did this number agree with floating point value from previous question?"
   ]
  },
  {
   "cell_type": "code",
   "execution_count": 16,
   "id": "9f9f5ba0-7302-4921-9b94-7cd6976e5257",
   "metadata": {},
   "outputs": [
    {
     "name": "stdout",
     "output_type": "stream",
     "text": [
      "The answer is 24\n",
      "True\n",
      "True\n"
     ]
    }
   ],
   "source": [
    "print(\"The answer is\", seconds_per_day // seconds_per_hour)\n",
    "print(bool(24.0)) # Previous Answer\n",
    "print(bool(24)) # Current Answer\n"
   ]
  }
 ],
 "metadata": {
  "kernelspec": {
   "display_name": "Python 3 (ipykernel)",
   "language": "python",
   "name": "python3"
  },
  "language_info": {
   "codemirror_mode": {
    "name": "ipython",
    "version": 3
   },
   "file_extension": ".py",
   "mimetype": "text/x-python",
   "name": "python",
   "nbconvert_exporter": "python",
   "pygments_lexer": "ipython3",
   "version": "3.12.4"
  }
 },
 "nbformat": 4,
 "nbformat_minor": 5
}
